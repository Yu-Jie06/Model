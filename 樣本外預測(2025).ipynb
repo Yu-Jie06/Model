{
  "nbformat": 4,
  "nbformat_minor": 0,
  "metadata": {
    "colab": {
      "provenance": [],
      "mount_file_id": "1JUzauuZIaJdJeF7rCuApnGew28EnKgKN",
      "authorship_tag": "ABX9TyM6PkKzMqIzBZOAPqo5h+E6",
      "include_colab_link": true
    },
    "kernelspec": {
      "name": "python3",
      "display_name": "Python 3"
    },
    "language_info": {
      "name": "python"
    }
  },
  "cells": [
    {
      "cell_type": "markdown",
      "metadata": {
        "id": "view-in-github",
        "colab_type": "text"
      },
      "source": [
        "<a href=\"https://colab.research.google.com/github/Yu-Jie06/Model/blob/main/%E6%A8%A3%E6%9C%AC%E5%A4%96%E9%A0%90%E6%B8%AC(2025).ipynb\" target=\"_parent\"><img src=\"https://colab.research.google.com/assets/colab-badge.svg\" alt=\"Open In Colab\"/></a>"
      ]
    },
    {
      "cell_type": "code",
      "execution_count": null,
      "metadata": {
        "colab": {
          "base_uri": "https://localhost:8080/"
        },
        "id": "yICbB3XVMrGD",
        "outputId": "be9ea6a3-384e-4da1-b99e-325ad7458f1f"
      },
      "outputs": [
        {
          "output_type": "stream",
          "name": "stdout",
          "text": [
            "Requirement already satisfied: joblib in /usr/local/lib/python3.11/dist-packages (1.5.1)\n"
          ]
        }
      ],
      "source": [
        "!pip install joblib\n",
        "\n",
        "import joblib\n",
        "import pandas as pd\n",
        "import numpy as np\n",
        "import tensorflow as tf\n",
        "from tensorflow.keras.models import load_model\n",
        "from sklearn.metrics import accuracy_score, classification_report, confusion_matrix"
      ]
    },
    {
      "cell_type": "code",
      "source": [
        "model = load_model(\"/content/drive/MyDrive/models/gru_best_model_3711.h5\")\n",
        "scaler = joblib.load(\"/content/drive/MyDrive/models/scaler_3711.save\")"
      ],
      "metadata": {
        "colab": {
          "base_uri": "https://localhost:8080/"
        },
        "id": "o4ZMtPauNGWd",
        "outputId": "7d0f49a3-db7c-4fe0-b1a4-a3b0074360e2"
      },
      "execution_count": null,
      "outputs": [
        {
          "output_type": "stream",
          "name": "stderr",
          "text": [
            "WARNING:absl:Compiled the loaded model, but the compiled metrics have yet to be built. `model.compile_metrics` will be empty until you train or evaluate the model.\n"
          ]
        }
      ]
    },
    {
      "cell_type": "code",
      "source": [
        "df = pd.read_csv(\"/content/drive/MyDrive/Regularization/2025/3711_2025.csv\")\n",
        "df = df.dropna()\n",
        "\n",
        "# ✅ 刪除不應該存在的欄位（與訓練階段一致）\n",
        "df = df.drop(columns=['spread'])\n",
        "\n",
        "# 取出特徵與目標（假設 target 在最後一欄）\n",
        "X = df[df.columns[2:-1]]\n",
        "y = df[\"target\"].values\n",
        "\n",
        "# 標準化與 reshape\n",
        "X_scaled = scaler.transform(X)\n",
        "X_reshaped = X_scaled.reshape(X_scaled.shape[0], 1, X_scaled.shape[1])"
      ],
      "metadata": {
        "id": "4aMfbsYhO4mg"
      },
      "execution_count": null,
      "outputs": []
    },
    {
      "cell_type": "code",
      "source": [
        "y_pred_prob = model.predict(X_reshaped)\n",
        "y_pred = (y_pred_prob > 0.5).astype(int)\n",
        "\n",
        "# 準確率與報告\n",
        "accuracy = accuracy_score(y, y_pred)\n",
        "print(f\"樣本外測試準確率: {accuracy:.4f}\")\n",
        "print(\"\\n分類報告:\")\n",
        "print(classification_report(y, y_pred))\n",
        "\n",
        "# 混淆矩陣\n",
        "print(\"混淆矩陣:\")\n",
        "print(confusion_matrix(y, y_pred))\n"
      ],
      "metadata": {
        "colab": {
          "base_uri": "https://localhost:8080/"
        },
        "id": "idS1YfvJQUTD",
        "outputId": "36527e61-998c-416f-df89-0358e28efe3a"
      },
      "execution_count": null,
      "outputs": [
        {
          "output_type": "stream",
          "name": "stdout",
          "text": [
            "\u001b[1m3/3\u001b[0m \u001b[32m━━━━━━━━━━━━━━━━━━━━\u001b[0m\u001b[37m\u001b[0m \u001b[1m0s\u001b[0m 18ms/step\n",
            "樣本外測試準確率: 0.6854\n",
            "\n",
            "分類報告:\n",
            "              precision    recall  f1-score   support\n",
            "\n",
            "           0       0.63      0.96      0.76        47\n",
            "           1       0.89      0.38      0.53        42\n",
            "\n",
            "    accuracy                           0.69        89\n",
            "   macro avg       0.76      0.67      0.65        89\n",
            "weighted avg       0.75      0.69      0.65        89\n",
            "\n",
            "混淆矩陣:\n",
            "[[45  2]\n",
            " [26 16]]\n"
          ]
        }
      ]
    },
    {
      "cell_type": "code",
      "source": [
        "import numpy as np\n",
        "unique, counts = np.unique(y_pred, return_counts=True)\n",
        "for label, count in zip(unique, counts):\n",
        "    print(f\"預測為 {label} 的筆數: {count}\")"
      ],
      "metadata": {
        "colab": {
          "base_uri": "https://localhost:8080/"
        },
        "id": "33co6dg-JOSj",
        "outputId": "17a2fb1d-431c-4c24-952c-8513732e85fc"
      },
      "execution_count": null,
      "outputs": [
        {
          "output_type": "stream",
          "name": "stdout",
          "text": [
            "預測為 0 的筆數: 71\n",
            "預測為 1 的筆數: 18\n"
          ]
        }
      ]
    },
    {
      "cell_type": "code",
      "source": [
        "import matplotlib.pyplot as plt\n",
        "\n",
        "plt.figure(figsize=(6, 4))\n",
        "plt.hist(y_pred_prob, bins=20, color='skyblue', edgecolor='black')\n",
        "plt.title(\"樣本外預測機率分布\")\n",
        "plt.xlabel(\"預測為上漲的機率\")\n",
        "plt.ylabel(\"樣本數\")\n",
        "plt.grid(True)\n",
        "plt.tight_layout()\n",
        "plt.show()"
      ],
      "metadata": {
        "colab": {
          "base_uri": "https://localhost:8080/",
          "height": 407
        },
        "id": "L0dbYs-8OVr8",
        "outputId": "f758775b-59aa-4f71-f030-23ded0547c22"
      },
      "execution_count": null,
      "outputs": [
        {
          "output_type": "display_data",
          "data": {
            "text/plain": [
              "<Figure size 600x400 with 1 Axes>"
            ],
            "image/png": "[encoded data removed]"
          },
          "metadata": {}
        }
      ]
    },
    {
      "cell_type": "code",
      "source": [
        "import pandas as pd\n",
        "import numpy as np\n",
        "import joblib\n",
        "import tensorflow as tf\n",
        "\n",
        "# === 載入樣本外資料（2025）===\n",
        "df = pd.read_csv(\"/content/drive/MyDrive/Regularization/2025/3711_2025.csv\")\n",
        "df = df.dropna()\n",
        "\n",
        "# === 確保欄位一致（刪除訓練時就已排除的欄位）===\n",
        "# 注意：有些欄位可能不存在，所以要做條件判斷\n",
        "drop_columns = ['spread', 'EPS']\n",
        "df = df.drop(columns=[col for col in drop_columns if col in df.columns])\n",
        "\n",
        "# === 取出特徵欄位（與訓練時相同）===\n",
        "X = df[df.columns[2:-1]] # 假設第0欄是 date，第1欄是 stock_id，第2欄開始是特徵\n",
        "print(\"樣本外資料的欄位順序：\", X.columns.tolist())\n",
        "\n",
        "# === 載入已訓練好的 Scaler 和 模型 ===\n",
        "scaler = joblib.load(\"/content/drive/MyDrive/models/scaler_3711.save\")   # 根據你儲存的路徑修改\n",
        "model = tf.keras.models.load_model(\"/content/drive/MyDrive/models/gru_best_model_3711.h5\")\n",
        "# === 檢查欄位是否一致 ===\n",
        "assert list(X.columns) == list(scaler.feature_names_in_), \"欄位不一致，請檢查是否與訓練時相同\"\n",
        "\n",
        "# === 標準化 & 重塑資料格式 ===\n",
        "X_scaled = scaler.transform(X)\n",
        "X_reshaped = X_scaled.reshape(X_scaled.shape[0], 1, X_scaled.shape[1])\n",
        "\n",
        "# === 預測樣本外資料 ===\n",
        "y_pred_prob = model.predict(X_reshaped)\n",
        "y_pred_label = (y_pred_prob > 0.5).astype(int)\n",
        "\n",
        "# === 輸出結果（或儲存）===\n",
        "df[\"prediction\"] = y_pred_label\n",
        "print(df[[\"date\", \"prediction\"]].head())\n",
        "print(\"樣本外欄位：\", list(X.columns))\n",
        "print(\"訓練時欄位：\", list(scaler.feature_names_in_))"
      ],
      "metadata": {
        "colab": {
          "base_uri": "https://localhost:8080/"
        },
        "id": "jfzScNU1HGhG",
        "outputId": "7ef33703-bb55-4d11-8e14-f676b18e2bea"
      },
      "execution_count": null,
      "outputs": [
        {
          "output_type": "stream",
          "name": "stderr",
          "text": [
            "WARNING:absl:Compiled the loaded model, but the compiled metrics have yet to be built. `model.compile_metrics` will be empty until you train or evaluate the model.\n"
          ]
        },
        {
          "output_type": "stream",
          "name": "stdout",
          "text": [
            "樣本外資料的欄位順序： ['Trading_Volume', 'Trading_money', 'open', 'max', 'min', 'close', 'Trading_turnover', 'RSI', 'MA', 'FastK', 'FastD', 'Dividend Yield', 'P/E', 'P/B', 'sentiment_score']\n",
            "\u001b[1m3/3\u001b[0m \u001b[32m━━━━━━━━━━━━━━━━━━━━\u001b[0m\u001b[37m\u001b[0m \u001b[1m1s\u001b[0m 195ms/step\n",
            "          date  prediction\n",
            "6   2025-01-10           0\n",
            "7   2025-01-13           0\n",
            "8   2025-01-14           0\n",
            "9   2025-01-15           0\n",
            "10  2025-01-16           1\n",
            "樣本外欄位： ['Trading_Volume', 'Trading_money', 'open', 'max', 'min', 'close', 'Trading_turnover', 'RSI', 'MA', 'FastK', 'FastD', 'Dividend Yield', 'P/E', 'P/B', 'sentiment_score']\n",
            "訓練時欄位： ['Trading_Volume', 'Trading_money', 'open', 'max', 'min', 'close', 'Trading_turnover', 'RSI', 'MA', 'FastK', 'FastD', 'Dividend Yield', 'P/E', 'P/B', 'sentiment_score']\n"
          ]
        }
      ]
    },
    {
      "cell_type": "code",
      "source": [
        "y_pred_prob = model.predict(X_reshaped)\n",
        "y_pred = (y_pred_prob > 0.5).astype(int)\n",
        "\n",
        "# 準確率與報告\n",
        "accuracy = accuracy_score(y, y_pred)\n",
        "print(f\"樣本外測試準確率: {accuracy:.4f}\")\n",
        "print(\"\\n分類報告:\")\n",
        "print(classification_report(y, y_pred))\n",
        "\n",
        "# 混淆矩陣\n",
        "print(\"混淆矩陣:\")\n",
        "print(confusion_matrix(y, y_pred))"
      ],
      "metadata": {
        "colab": {
          "base_uri": "https://localhost:8080/"
        },
        "id": "rB4enEl_IXUu",
        "outputId": "554c81fd-928e-42de-9fba-75fb3dc7b533"
      },
      "execution_count": null,
      "outputs": [
        {
          "output_type": "stream",
          "name": "stdout",
          "text": [
            "\u001b[1m3/3\u001b[0m \u001b[32m━━━━━━━━━━━━━━━━━━━━\u001b[0m\u001b[37m\u001b[0m \u001b[1m0s\u001b[0m 21ms/step\n",
            "樣本外測試準確率: 0.6854\n",
            "\n",
            "分類報告:\n",
            "              precision    recall  f1-score   support\n",
            "\n",
            "           0       0.63      0.96      0.76        47\n",
            "           1       0.89      0.38      0.53        42\n",
            "\n",
            "    accuracy                           0.69        89\n",
            "   macro avg       0.76      0.67      0.65        89\n",
            "weighted avg       0.75      0.69      0.65        89\n",
            "\n",
            "混淆矩陣:\n",
            "[[45  2]\n",
            " [26 16]]\n"
          ]
        }
      ]
    },
    {
      "cell_type": "code",
      "source": [
        "!wget -O TaipeiSansTCBeta-Regular.ttf https://drive.google.com/uc?id=1eGAsTN1HBpJAkeVM57_C7ccp7hbgSz3_&export=download\n",
        "\n",
        "import matplotlib\n",
        "\n",
        "matplotlib.font_manager.fontManager.addfont('TaipeiSansTCBeta-Regular.ttf')\n",
        "matplotlib.rc('font', family='Taipei Sans TC Beta')"
      ],
      "metadata": {
        "colab": {
          "base_uri": "https://localhost:8080/"
        },
        "id": "4NMpyiHXJc_R",
        "outputId": "a424b13b-33ae-4ffb-9161-56db944d6e51"
      },
      "execution_count": null,
      "outputs": [
        {
          "output_type": "stream",
          "name": "stdout",
          "text": [
            "--2025-07-03 12:02:44--  https://drive.google.com/uc?id=1eGAsTN1HBpJAkeVM57_C7ccp7hbgSz3_\n",
            "Resolving drive.google.com (drive.google.com)... 108.177.97.102, 108.177.97.113, 108.177.97.101, ...\n",
            "Connecting to drive.google.com (drive.google.com)|108.177.97.102|:443... connected.\n",
            "HTTP request sent, awaiting response... 303 See Other\n",
            "Location: https://drive.usercontent.google.com/download?id=1eGAsTN1HBpJAkeVM57_C7ccp7hbgSz3_ [following]\n",
            "--2025-07-03 12:02:44--  https://drive.usercontent.google.com/download?id=1eGAsTN1HBpJAkeVM57_C7ccp7hbgSz3_\n",
            "Resolving drive.usercontent.google.com (drive.usercontent.google.com)... 108.177.125.132, 2404:6800:4008:c04::84\n",
            "Connecting to drive.usercontent.google.com (drive.usercontent.google.com)|108.177.125.132|:443... connected.\n",
            "HTTP request sent, awaiting response... 200 OK\n",
            "Length: 20659344 (20M) [application/octet-stream]\n",
            "Saving to: ‘TaipeiSansTCBeta-Regular.ttf’\n",
            "\n",
            "TaipeiSansTCBeta-Re 100%[===================>]  19.70M  76.4MB/s    in 0.3s    \n",
            "\n",
            "2025-07-03 12:02:46 (76.4 MB/s) - ‘TaipeiSansTCBeta-Regular.ttf’ saved [20659344/20659344]\n",
            "\n"
          ]
        }
      ]
    },
    {
      "cell_type": "code",
      "source": [
        "import matplotlib.pyplot as plt\n",
        "\n",
        "plt.figure(figsize=(6, 4))\n",
        "plt.hist(y_pred_prob, bins=20, color='skyblue', edgecolor='black')\n",
        "plt.title(\"樣本外預測機率分布\")\n",
        "plt.xlabel(\"預測為上漲的機率\")\n",
        "plt.ylabel(\"樣本數\")\n",
        "plt.grid(True)\n",
        "plt.tight_layout()\n",
        "plt.show()"
      ],
      "metadata": {
        "colab": {
          "base_uri": "https://localhost:8080/",
          "height": 407
        },
        "id": "YTQhJQloJ3uT",
        "outputId": "3d93ccfa-6ebf-4f3f-9e81-7db4f951e6e7"
      },
      "execution_count": null,
      "outputs": [
        {
          "output_type": "display_data",
          "data": {
            "text/plain": [
              "<Figure size 600x400 with 1 Axes>"
            ],
            "image/png": "[encoded data removed]"
          },
          "metadata": {}
        }
      ]
    },
    {
      "cell_type": "code",
      "source": [
        "# 安裝 joblib（若尚未安裝）\n",
        "!pip install joblib\n",
        "\n",
        "import joblib\n",
        "import pandas as pd\n",
        "import numpy as np\n",
        "import tensorflow as tf\n",
        "from tensorflow.keras.models import load_model\n",
        "from sklearn.metrics import accuracy_score, classification_report, confusion_matrix\n",
        "\n",
        "# 1. 載入模型與標準化器\n",
        "model = load_model(\"/content/drive/MyDrive/models/gru_best_model_2303.h5\")\n",
        "scaler = joblib.load(\"/content/drive/MyDrive/models/scaler_2303.save\")\n",
        "\n",
        "# 2. 載入樣本外資料\n",
        "df = pd.read_csv(\"/content/drive/MyDrive/Regularization/2025/2303_2025.csv\")\n",
        "df = df.dropna()\n",
        "\n",
        "# ✅ 3. 保留日期欄位（在刪除欄位之前）\n",
        "dates = df['date'].values\n",
        "\n",
        "# 4. 刪除不必要欄位\n",
        "df = df.drop(columns=['spread'])\n",
        "\n",
        "# 5. 分離特徵與目標欄位\n",
        "X = df[df.columns[2:-1]]  # 假設前兩欄為日期與代碼\n",
        "y = df[\"target\"].values\n",
        "\n",
        "# 6. 特徵標準化與 Reshape\n",
        "X_scaled = scaler.transform(X)\n",
        "X_reshaped = X_scaled.reshape(X_scaled.shape[0], 1, X_scaled.shape[1])\n",
        "\n",
        "# 7. 預測機率與類別\n",
        "y_pred_prob = model.predict(X_reshaped)\n",
        "y_pred = (y_pred_prob > 0.5).astype(int).flatten()\n",
        "\n",
        "# 8. 評估結果\n",
        "accuracy = accuracy_score(y, y_pred)\n",
        "print(f\"樣本外測試準確率: {accuracy:.4f}\")\n",
        "print(\"\\n分類報告:\")\n",
        "print(classification_report(y, y_pred))\n",
        "print(\"混淆矩陣:\")\n",
        "print(confusion_matrix(y, y_pred))\n",
        "\n",
        "# ✅ 9. 建立預測結果表格\n",
        "result_df = pd.DataFrame({\n",
        "    'date': dates,\n",
        "    'true_label': y,\n",
        "    'pred_label': y_pred,\n",
        "    'pred_prob_up': y_pred_prob.flatten()\n",
        "})\n",
        "\n",
        "# ✅ 10. 篩選預測錯誤的樣本\n",
        "misclassified_df = result_df[result_df['true_label'] != result_df['pred_label']]\n",
        "print(\"\\n預測錯誤的樣本：\")\n",
        "print(misclassified_df)\n",
        "\n",
        "# ✅ 11. 如果想輸出 CSV（可選）\n",
        "# misclassified_df.to_csv(\"/content/drive/MyDrive/output/misclassified_3711.csv\", index=False)"
      ],
      "metadata": {
        "colab": {
          "base_uri": "https://localhost:8080/"
        },
        "id": "TmMS7QQir7Zy",
        "outputId": "001f0c06-ebf1-43a7-fdfe-5613c1058ad7"
      },
      "execution_count": null,
      "outputs": [
        {
          "output_type": "stream",
          "name": "stdout",
          "text": [
            "Requirement already satisfied: joblib in /usr/local/lib/python3.11/dist-packages (1.5.1)\n"
          ]
        },
        {
          "output_type": "stream",
          "name": "stderr",
          "text": [
            "WARNING:absl:Compiled the loaded model, but the compiled metrics have yet to be built. `model.compile_metrics` will be empty until you train or evaluate the model.\n"
          ]
        },
        {
          "output_type": "stream",
          "name": "stdout",
          "text": [
            "\u001b[1m3/3\u001b[0m \u001b[32m━━━━━━━━━━━━━━━━━━━━\u001b[0m\u001b[37m\u001b[0m \u001b[1m1s\u001b[0m 236ms/step\n",
            "樣本外測試準確率: 0.7865\n",
            "\n",
            "分類報告:\n",
            "              precision    recall  f1-score   support\n",
            "\n",
            "           0       0.73      0.82      0.78        40\n",
            "           1       0.84      0.76      0.80        49\n",
            "\n",
            "    accuracy                           0.79        89\n",
            "   macro avg       0.79      0.79      0.79        89\n",
            "weighted avg       0.79      0.79      0.79        89\n",
            "\n",
            "混淆矩陣:\n",
            "[[33  7]\n",
            " [12 37]]\n",
            "\n",
            "預測錯誤的樣本：\n",
            "          date  true_label  pred_label  pred_prob_up\n",
            "4   2025-01-16           1           0      0.194436\n",
            "9   2025-02-03           1           0      0.025257\n",
            "13  2025-02-07           1           0      0.203448\n",
            "14  2025-02-10           1           0      0.269112\n",
            "18  2025-02-14           0           1      0.806916\n",
            "20  2025-02-18           0           1      0.778762\n",
            "24  2025-02-24           0           1      0.668666\n",
            "26  2025-02-26           1           0      0.418423\n",
            "27  2025-02-27           1           0      0.326540\n",
            "31  2025-03-06           0           1      0.829558\n",
            "35  2025-03-12           0           1      0.599976\n",
            "42  2025-03-21           0           1      0.514738\n",
            "52  2025-04-08           1           0      0.169918\n",
            "56  2025-04-14           1           0      0.274972\n",
            "58  2025-04-16           1           0      0.395522\n",
            "60  2025-04-18           1           0      0.014288\n",
            "71  2025-05-06           1           0      0.381969\n",
            "74  2025-05-09           1           0      0.314338\n",
            "83  2025-05-22           0           1      0.521436\n"
          ]
        }
      ]
    }
  ]
}